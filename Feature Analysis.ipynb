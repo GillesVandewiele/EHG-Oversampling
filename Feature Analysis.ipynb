{
 "cells": [
  {
   "cell_type": "code",
   "execution_count": 1,
   "metadata": {},
   "outputs": [
    {
     "name": "stderr",
     "output_type": "stream",
     "text": [
      "/usr/local/lib/python3.6/dist-packages/numba/errors.py:105: UserWarning: Insufficiently recent colorama version found. Numba requires colorama >= 0.3.9\n",
      "  warnings.warn(msg)\n"
     ]
    }
   ],
   "source": [
    "from features import *\n",
    "from tqdm import tqdm_notebook\n",
    "import wfdb\n",
    "import pandas as pd\n",
    "import numpy as np\n",
    "import os\n",
    "\n",
    "%matplotlib inline\n",
    "import matplotlib.pyplot as plt"
   ]
  },
  {
   "cell_type": "markdown",
   "metadata": {},
   "source": [
    "# Load data"
   ]
  },
  {
   "cell_type": "code",
   "execution_count": 2,
   "metadata": {},
   "outputs": [],
   "source": [
    "def process_header_file(file):\n",
    "    # The clinical variables are added as comments in the\n",
    "    # .hea file. Extract them from that file.\n",
    "    start_idx = 0\n",
    "    with open(file, 'r') as ifp:\n",
    "        lines = ifp.readlines()\n",
    "        for line_idx, line in enumerate(lines):\n",
    "            if line.startswith('#'):\n",
    "                start_idx = line_idx\n",
    "                break\n",
    "        \n",
    "        names = []\n",
    "        values = []\n",
    "        for line in lines[start_idx+1:]:\n",
    "            _, name, value = line.split()\n",
    "            names.append(name)\n",
    "            values.append(value)\n",
    "            \n",
    "        return names, values"
   ]
  },
  {
   "cell_type": "code",
   "execution_count": 3,
   "metadata": {},
   "outputs": [
    {
     "data": {
      "application/vnd.jupyter.widget-view+json": {
       "model_id": "2ecacb5cfe0748e4a275f48508820028",
       "version_major": 2,
       "version_minor": 0
      },
      "text/plain": [
       "HBox(children=(IntProgress(value=0, max=300), HTML(value='')))"
      ]
     },
     "metadata": {},
     "output_type": "display_data"
    },
    {
     "name": "stdout",
     "output_type": "stream",
     "text": [
      "\n"
     ]
    }
   ],
   "source": [
    "signals = []\n",
    "gestations = []\n",
    "remaining_durations = []\n",
    "ids = []\n",
    "\n",
    "for file in tqdm_notebook(set(map(lambda x: x.split('.')[0], os.listdir('data/tpehgdb')))):\n",
    "    ids.append(file)\n",
    "    file_path = 'data/tpehgdb/{}'.format(file)\n",
    "\n",
    "    record = wfdb.rdrecord(file_path)\n",
    "    \n",
    "    clin_names, clin_values = process_header_file(file_path + '.hea')\n",
    "    gestation = float(clin_values[1])\n",
    "    rectime = float(clin_values[2])\n",
    "    remaining_duration = gestation - rectime\n",
    "    \n",
    "    signal_ch1 = record.p_signal[:, 2]\n",
    "    signal_ch2 = record.p_signal[:, 6]\n",
    "    signal_ch3 = record.p_signal[:, 10]\n",
    "    \n",
    "    if len(signal_ch1) < 33000: # Faulty signal\n",
    "        continue\n",
    "    \n",
    "    signals.append([signal_ch1, signal_ch2, signal_ch3])\n",
    "    gestations.append(gestation)\n",
    "    remaining_durations.append(remaining_duration)"
   ]
  },
  {
   "cell_type": "markdown",
   "metadata": {},
   "source": [
    "# Peak Frequency"
   ]
  },
  {
   "cell_type": "code",
   "execution_count": 105,
   "metadata": {},
   "outputs": [
    {
     "data": {
      "application/vnd.jupyter.widget-view+json": {
       "model_id": "dcffdacb017f4ff6b7f9ea196effb1b8",
       "version_major": 2,
       "version_minor": 0
      },
      "text/plain": [
       "HBox(children=(IntProgress(value=0, max=298), HTML(value='')))"
      ]
     },
     "metadata": {},
     "output_type": "display_data"
    }
   ],
   "source": [
    "def peak_freq(data, fs):\n",
    "    ps = np.abs(np.fft.fft(data))**2\n",
    "    M = len(ps)\n",
    "    freqs = np.fft.fftfreq(M, d=1/fs)\n",
    "    \n",
    "    mask = freqs >= 0\n",
    "    freqs = freqs[mask]\n",
    "    ps = ps[mask]\n",
    "    \n",
    "    return np.abs(freqs[np.argmax(ps)])\n",
    "\n",
    "peak_ch1 = []\n",
    "peak_ch2 = []\n",
    "peak_ch3 = []\n",
    "\n",
    "for (signal_ch1, signal_ch2, signal_ch3) in tqdm_notebook(signals):\n",
    "    cutoff = len(signal_ch1) - 32768\n",
    "    signal_ch1 = signal_ch1[int(np.floor(cutoff / 2)):-int(np.ceil(cutoff / 2))]\n",
    "    signal_ch2 = signal_ch2[int(np.floor(cutoff / 2)):-int(np.ceil(cutoff / 2))]\n",
    "    signal_ch3 = signal_ch3[int(np.floor(cutoff / 2)):-int(np.ceil(cutoff / 2))]\n",
    "    peak_ch1.append(peak_freq(signal_ch1, 20.0))\n",
    "    peak_ch2.append(peak_freq(signal_ch2, 20.0))\n",
    "    peak_ch3.append(peak_freq(signal_ch3, 20.0))"
   ]
  },
  {
   "cell_type": "code",
   "execution_count": 106,
   "metadata": {},
   "outputs": [
    {
     "data": {
      "text/plain": [
       "<matplotlib.collections.PathCollection at 0x7fe3284369e8>"
      ]
     },
     "execution_count": 106,
     "metadata": {},
     "output_type": "execute_result"
    },
    {
     "data": {
      "image/png": "[encoded data removed]",
      "text/plain": [
       "<Figure size 432x288 with 1 Axes>"
      ]
     },
     "metadata": {},
     "output_type": "display_data"
    }
   ],
   "source": [
    "plt.scatter(peak_ch1, remaining_durations)"
   ]
  },
  {
   "cell_type": "code",
   "execution_count": 107,
   "metadata": {},
   "outputs": [
    {
     "data": {
      "text/plain": [
       "<matplotlib.axes._subplots.AxesSubplot at 0x7fe3284a0550>"
      ]
     },
     "execution_count": 107,
     "metadata": {},
     "output_type": "execute_result"
    },
    {
     "data": {
      "image/png": "[encoded data removed]",
      "text/plain": [
       "<Figure size 432x288 with 1 Axes>"
      ]
     },
     "metadata": {},
     "output_type": "display_data"
    }
   ],
   "source": [
    "# Let's check if this matches the feature file\n",
    "\n",
    "df = pd.read_csv('data/features/tpehgdb_features__filter_0.3_Hz-3.0_Hz.fvl')\n",
    "df['Duration'] = df['Gestation'] - df['Rec. time']\n",
    "df[df['Chann'] == 1][['Fpeak', 'Duration']].plot(kind='scatter', x='Fpeak', y='Duration')"
   ]
  },
  {
   "cell_type": "markdown",
   "metadata": {},
   "source": [
    "# Median Frequency"
   ]
  },
  {
   "cell_type": "code",
   "execution_count": 104,
   "metadata": {},
   "outputs": [
    {
     "data": {
      "application/vnd.jupyter.widget-view+json": {
       "model_id": "3b0207e460ee43228d89721f7fd74ed8",
       "version_major": 2,
       "version_minor": 0
      },
      "text/plain": [
       "HBox(children=(IntProgress(value=0, max=298), HTML(value='')))"
      ]
     },
     "metadata": {},
     "output_type": "display_data"
    }
   ],
   "source": [
    "def median_freq(data, fs):\n",
    "    ps = np.abs(np.fft.fft(data))**2\n",
    "    M = len(ps)\n",
    "    freqs = np.fft.fftfreq(M, d=1/fs)\n",
    "    \n",
    "    mask = freqs >= 0\n",
    "    freqs = freqs[mask]\n",
    "    ps = ps[mask]\n",
    "    \n",
    "    best_k, min_dist = None, float('inf')\n",
    "    \n",
    "    # Divide-and-conquer on array of positive values to find\n",
    "    # index that partitions the array into parts with\n",
    "    # an as equal sum as possible\n",
    "    k = len(ps) // 2\n",
    "    offset = len(ps) // 4\n",
    "    while offset > 0:\n",
    "        sum1 = np.sum(ps[:k])\n",
    "        sum2 = np.sum(ps[k:])\n",
    "        d = abs(sum1 - sum2)\n",
    "            \n",
    "        if d < min_dist:\n",
    "            min_dist = d\n",
    "            best_k = k\n",
    "        \n",
    "        if sum1 > sum2:\n",
    "            k -= offset\n",
    "        else:\n",
    "            k += offset\n",
    "            \n",
    "        offset = offset // 2\n",
    "            \n",
    "    return freqs[best_k]\n",
    "\n",
    "med_ch1 = []\n",
    "med_ch2 = []\n",
    "med_ch3 = []\n",
    "\n",
    "for (signal_ch1, signal_ch2, signal_ch3) in tqdm_notebook(signals):\n",
    "    cutoff = len(signal_ch1) - 32768\n",
    "    signal_ch1 = signal_ch1[int(np.floor(cutoff / 2)):-int(np.ceil(cutoff / 2))]\n",
    "    signal_ch2 = signal_ch2[int(np.floor(cutoff / 2)):-int(np.ceil(cutoff / 2))]\n",
    "    signal_ch3 = signal_ch3[int(np.floor(cutoff / 2)):-int(np.ceil(cutoff / 2))]\n",
    "    med_ch1.append(median_freq(signal_ch1, 20.0))\n",
    "    med_ch2.append(median_freq(signal_ch2, 20.0))\n",
    "    med_ch3.append(median_freq(signal_ch3, 20.0))"
   ]
  },
  {
   "cell_type": "code",
   "execution_count": 102,
   "metadata": {},
   "outputs": [
    {
     "data": {
      "text/plain": [
       "<matplotlib.collections.PathCollection at 0x7fe32856f978>"
      ]
     },
     "execution_count": 102,
     "metadata": {},
     "output_type": "execute_result"
    },
    {
     "data": {
      "image/png": "[encoded data removed]",
      "text/plain": [
       "<Figure size 432x288 with 1 Axes>"
      ]
     },
     "metadata": {},
     "output_type": "display_data"
    }
   ],
   "source": [
    "plt.scatter(med_ch1, remaining_durations)"
   ]
  },
  {
   "cell_type": "code",
   "execution_count": 103,
   "metadata": {},
   "outputs": [
    {
     "data": {
      "text/plain": [
       "<matplotlib.axes._subplots.AxesSubplot at 0x7fe328543978>"
      ]
     },
     "execution_count": 103,
     "metadata": {},
     "output_type": "execute_result"
    },
    {
     "data": {
      "image/png": "[encoded data removed]",
      "text/plain": [
       "<Figure size 432x288 with 1 Axes>"
      ]
     },
     "metadata": {},
     "output_type": "display_data"
    }
   ],
   "source": [
    "# Let's check if this matches the feature file\n",
    "\n",
    "df = pd.read_csv('data/features/tpehgdb_features__filter_0.3_Hz-3.0_Hz.fvl')\n",
    "df['Duration'] = df['Gestation'] - df['Rec. time']\n",
    "df[df['Chann'] == 1][['Fmed', 'Duration']].plot(kind='scatter', x='Fmed', y='Duration')"
   ]
  },
  {
   "cell_type": "markdown",
   "metadata": {},
   "source": [
    "# Root Mean Squared"
   ]
  },
  {
   "cell_type": "code",
   "execution_count": 29,
   "metadata": {},
   "outputs": [
    {
     "data": {
      "application/vnd.jupyter.widget-view+json": {
       "model_id": "ec887459e09a4da09f71ab34ec621ec3",
       "version_major": 2,
       "version_minor": 0
      },
      "text/plain": [
       "HBox(children=(IntProgress(value=0, max=298), HTML(value='')))"
      ]
     },
     "metadata": {},
     "output_type": "display_data"
    }
   ],
   "source": [
    "def rms(signal):\n",
    "    return np.sqrt(np.mean(signal[3000:-3000] ** 2)) * 1000\n",
    "\n",
    "rms_ch1 = []\n",
    "rms_ch2 = []\n",
    "rms_ch3 = []\n",
    "\n",
    "for (signal_ch1, signal_ch2, signal_ch3) in tqdm_notebook(signals):\n",
    "    rms_ch1.append(rms(signal_ch1))\n",
    "    rms_ch2.append(rms(signal_ch2))\n",
    "    rms_ch3.append(rms(signal_ch3))"
   ]
  },
  {
   "cell_type": "code",
   "execution_count": 30,
   "metadata": {},
   "outputs": [
    {
     "data": {
      "image/png": "[encoded data removed]",
      "text/plain": [
       "<Figure size 432x288 with 1 Axes>"
      ]
     },
     "metadata": {},
     "output_type": "display_data"
    },
    {
     "data": {
      "image/png": "[encoded data removed]",
      "text/plain": [
       "<Figure size 432x288 with 1 Axes>"
      ]
     },
     "metadata": {},
     "output_type": "display_data"
    },
    {
     "data": {
      "image/png": "[encoded data removed]",
      "text/plain": [
       "<Figure size 432x288 with 1 Axes>"
      ]
     },
     "metadata": {},
     "output_type": "display_data"
    }
   ],
   "source": [
    "plt.figure()\n",
    "plt.scatter(rms_ch1, remaining_durations)\n",
    "plt.show()\n",
    "\n",
    "plt.figure()\n",
    "plt.scatter(rms_ch2, remaining_durations)\n",
    "plt.show()\n",
    "\n",
    "plt.figure()\n",
    "plt.scatter(rms_ch3, remaining_durations)\n",
    "plt.show()"
   ]
  },
  {
   "cell_type": "code",
   "execution_count": 31,
   "metadata": {
    "scrolled": true
   },
   "outputs": [
    {
     "data": {
      "text/plain": [
       "<matplotlib.axes._subplots.AxesSubplot at 0x7ff90b353048>"
      ]
     },
     "execution_count": 31,
     "metadata": {},
     "output_type": "execute_result"
    },
    {
     "data": {
      "image/png": "[encoded data removed]",
      "text/plain": [
       "<Figure size 432x288 with 1 Axes>"
      ]
     },
     "metadata": {},
     "output_type": "display_data"
    }
   ],
   "source": [
    "# Let's check if this matches the feature file\n",
    "\n",
    "df = pd.read_csv('data/features/tpehgdb_features__filter_0.3_Hz-3.0_Hz.fvl')\n",
    "df['Duration'] = df['Gestation'] - df['Rec. time']\n",
    "df[df['Chann'] == 3][['RMS', 'Duration']].plot(kind='scatter', x='RMS', y='Duration')"
   ]
  },
  {
   "cell_type": "markdown",
   "metadata": {},
   "source": [
    "# Sample Entropy"
   ]
  },
  {
   "cell_type": "code",
   "execution_count": 76,
   "metadata": {},
   "outputs": [
    {
     "data": {
      "application/vnd.jupyter.widget-view+json": {
       "model_id": "1616363c76d84544ad2f86e96f61bc0e",
       "version_major": 2,
       "version_minor": 0
      },
      "text/plain": [
       "HBox(children=(IntProgress(value=0, max=298), HTML(value='')))"
      ]
     },
     "metadata": {},
     "output_type": "display_data"
    }
   ],
   "source": [
    "sampen_ch1 = []\n",
    "sampen_ch2 = []\n",
    "sampen_ch3 = []\n",
    "\n",
    "for _id, (signal_ch1, signal_ch2, signal_ch3) in tqdm_notebook(list(zip(ids, signals))):\n",
    "    sampen_ch1.append(app_entropy(signal_ch1[3000:-3000], 2, r=0.15))\n",
    "    sampen_ch2.append(app_entropy(signal_ch2[3000:-3000], 2, r=0.15))\n",
    "    sampen_ch3.append(app_entropy(signal_ch3[3000:-3000], 2, r=0.15))"
   ]
  },
  {
   "cell_type": "code",
   "execution_count": null,
   "metadata": {},
   "outputs": [],
   "source": [
    "plt.figure()\n",
    "plt.scatter(sampen_ch1, remaining_durations)\n",
    "plt.show()\n",
    "\n",
    "plt.figure()\n",
    "plt.scatter(sampen_ch2, remaining_durations)\n",
    "plt.show()\n",
    "\n",
    "plt.figure()\n",
    "plt.scatter(sampen_ch3, remaining_durations)\n",
    "plt.show()"
   ]
  },
  {
   "cell_type": "code",
   "execution_count": null,
   "metadata": {},
   "outputs": [],
   "source": [
    "# Let's check if this matches the feature file\n",
    "provided_sampen = []\n",
    "df = pd.read_csv('data/features/tpehgdb_features__filter_0.3_Hz-3.0_Hz.fvl')\n",
    "for _id in ids:\n",
    "    provided_sampen.append(df[(df['Record'] == ' '+_id) & (df['Chann'] == 1)].iloc[0, :]['Samp. en.'])\n",
    "    \n",
    "plt.figure()\n",
    "plt.scatter(sampen_ch1, provided_sampen)\n",
    "plt.show()"
   ]
  },
  {
   "cell_type": "markdown",
   "metadata": {},
   "source": [
    "# Fuzzy Sample Entropy"
   ]
  },
  {
   "cell_type": "code",
   "execution_count": null,
   "metadata": {},
   "outputs": [],
   "source": []
  },
  {
   "cell_type": "code",
   "execution_count": null,
   "metadata": {},
   "outputs": [],
   "source": []
  },
  {
   "cell_type": "markdown",
   "metadata": {},
   "source": [
    "# Autocorrelation zero-crossing"
   ]
  },
  {
   "cell_type": "code",
   "execution_count": 22,
   "metadata": {},
   "outputs": [
    {
     "data": {
      "application/vnd.jupyter.widget-view+json": {
       "model_id": "b9ddb94339dc445c867d605832b17a1f",
       "version_major": 2,
       "version_minor": 0
      },
      "text/plain": [
       "HBox(children=(IntProgress(value=0, max=298), HTML(value='')))"
      ]
     },
     "metadata": {},
     "output_type": "display_data"
    },
    {
     "ename": "KeyboardInterrupt",
     "evalue": "",
     "output_type": "error",
     "traceback": [
      "\u001b[0;31m---------------------------------------------------------------------------\u001b[0m",
      "\u001b[0;31mKeyboardInterrupt\u001b[0m                         Traceback (most recent call last)",
      "\u001b[0;32m<ipython-input-22-3c652d551cf6>\u001b[0m in \u001b[0;36m<module>\u001b[0;34m()\u001b[0m\n\u001b[1;32m     27\u001b[0m \u001b[0;31m#     print(ac_zero_crossing(signal_ch1[3000:-3000]), Tao(signal_ch1[3000:-3000]))\u001b[0m\u001b[0;34m\u001b[0m\u001b[0;34m\u001b[0m\u001b[0;34m\u001b[0m\u001b[0m\n\u001b[1;32m     28\u001b[0m     \u001b[0mac_zero_ch1\u001b[0m\u001b[0;34m.\u001b[0m\u001b[0mappend\u001b[0m\u001b[0;34m(\u001b[0m\u001b[0mac_zero_crossing\u001b[0m\u001b[0;34m(\u001b[0m\u001b[0msignal_ch1\u001b[0m\u001b[0;34m[\u001b[0m\u001b[0;36m3000\u001b[0m\u001b[0;34m:\u001b[0m\u001b[0;34m-\u001b[0m\u001b[0;36m3000\u001b[0m\u001b[0;34m]\u001b[0m\u001b[0;34m)\u001b[0m\u001b[0;34m)\u001b[0m\u001b[0;34m\u001b[0m\u001b[0;34m\u001b[0m\u001b[0m\n\u001b[0;32m---> 29\u001b[0;31m     \u001b[0mac_zero_ch2\u001b[0m\u001b[0;34m.\u001b[0m\u001b[0mappend\u001b[0m\u001b[0;34m(\u001b[0m\u001b[0mac_zero_crossing\u001b[0m\u001b[0;34m(\u001b[0m\u001b[0msignal_ch2\u001b[0m\u001b[0;34m[\u001b[0m\u001b[0;36m3000\u001b[0m\u001b[0;34m:\u001b[0m\u001b[0;34m-\u001b[0m\u001b[0;36m3000\u001b[0m\u001b[0;34m]\u001b[0m\u001b[0;34m)\u001b[0m\u001b[0;34m)\u001b[0m\u001b[0;34m\u001b[0m\u001b[0;34m\u001b[0m\u001b[0m\n\u001b[0m\u001b[1;32m     30\u001b[0m     \u001b[0mac_zero_ch3\u001b[0m\u001b[0;34m.\u001b[0m\u001b[0mappend\u001b[0m\u001b[0;34m(\u001b[0m\u001b[0mac_zero_crossing\u001b[0m\u001b[0;34m(\u001b[0m\u001b[0msignal_ch3\u001b[0m\u001b[0;34m[\u001b[0m\u001b[0;36m3000\u001b[0m\u001b[0;34m:\u001b[0m\u001b[0;34m-\u001b[0m\u001b[0;36m3000\u001b[0m\u001b[0;34m]\u001b[0m\u001b[0;34m)\u001b[0m\u001b[0;34m)\u001b[0m\u001b[0;34m\u001b[0m\u001b[0;34m\u001b[0m\u001b[0m\n",
      "\u001b[0;32m<ipython-input-22-3c652d551cf6>\u001b[0m in \u001b[0;36mac_zero_crossing\u001b[0;34m(signal)\u001b[0m\n\u001b[1;32m      2\u001b[0m \u001b[0;34m\u001b[0m\u001b[0m\n\u001b[1;32m      3\u001b[0m \u001b[0;32mdef\u001b[0m \u001b[0mac_zero_crossing\u001b[0m\u001b[0;34m(\u001b[0m\u001b[0msignal\u001b[0m\u001b[0;34m)\u001b[0m\u001b[0;34m:\u001b[0m\u001b[0;34m\u001b[0m\u001b[0;34m\u001b[0m\u001b[0m\n\u001b[0;32m----> 4\u001b[0;31m     \u001b[0mtau\u001b[0m \u001b[0;34m=\u001b[0m \u001b[0msm\u001b[0m\u001b[0;34m.\u001b[0m\u001b[0mtsa\u001b[0m\u001b[0;34m.\u001b[0m\u001b[0macf\u001b[0m\u001b[0;34m(\u001b[0m\u001b[0msignal\u001b[0m\u001b[0;34m,\u001b[0m \u001b[0mnlags\u001b[0m\u001b[0;34m=\u001b[0m\u001b[0mlen\u001b[0m\u001b[0;34m(\u001b[0m\u001b[0msignal\u001b[0m\u001b[0;34m)\u001b[0m \u001b[0;34m-\u001b[0m \u001b[0;36m1\u001b[0m\u001b[0;34m)\u001b[0m\u001b[0;34m\u001b[0m\u001b[0;34m\u001b[0m\u001b[0m\n\u001b[0m\u001b[1;32m      5\u001b[0m     \u001b[0mtau_neg_ix\u001b[0m \u001b[0;34m=\u001b[0m \u001b[0mnp\u001b[0m\u001b[0;34m.\u001b[0m\u001b[0marange\u001b[0m\u001b[0;34m(\u001b[0m\u001b[0mlen\u001b[0m\u001b[0;34m(\u001b[0m\u001b[0mtau\u001b[0m\u001b[0;34m)\u001b[0m\u001b[0;34m,\u001b[0m \u001b[0mdtype\u001b[0m\u001b[0;34m=\u001b[0m\u001b[0mint\u001b[0m\u001b[0;34m)\u001b[0m\u001b[0;34m[\u001b[0m\u001b[0mtau\u001b[0m \u001b[0;34m<\u001b[0m \u001b[0;36m0\u001b[0m\u001b[0;34m]\u001b[0m\u001b[0;34m\u001b[0m\u001b[0;34m\u001b[0m\u001b[0m\n\u001b[1;32m      6\u001b[0m     \u001b[0;32mreturn\u001b[0m \u001b[0mtau_neg_ix\u001b[0m\u001b[0;34m[\u001b[0m\u001b[0;36m0\u001b[0m\u001b[0;34m]\u001b[0m\u001b[0;34m\u001b[0m\u001b[0;34m\u001b[0m\u001b[0m\n",
      "\u001b[0;32m/usr/local/lib/python3.6/dist-packages/statsmodels/tsa/stattools.py\u001b[0m in \u001b[0;36macf\u001b[0;34m(x, unbiased, nlags, qstat, fft, alpha, missing)\u001b[0m\n\u001b[1;32m    472\u001b[0m     \"\"\"\n\u001b[1;32m    473\u001b[0m     \u001b[0mnobs\u001b[0m \u001b[0;34m=\u001b[0m \u001b[0mlen\u001b[0m\u001b[0;34m(\u001b[0m\u001b[0mx\u001b[0m\u001b[0;34m)\u001b[0m  \u001b[0;31m# should this shrink for missing='drop' and NaNs in x?\u001b[0m\u001b[0;34m\u001b[0m\u001b[0;34m\u001b[0m\u001b[0m\n\u001b[0;32m--> 474\u001b[0;31m     \u001b[0mavf\u001b[0m \u001b[0;34m=\u001b[0m \u001b[0macovf\u001b[0m\u001b[0;34m(\u001b[0m\u001b[0mx\u001b[0m\u001b[0;34m,\u001b[0m \u001b[0munbiased\u001b[0m\u001b[0;34m=\u001b[0m\u001b[0munbiased\u001b[0m\u001b[0;34m,\u001b[0m \u001b[0mdemean\u001b[0m\u001b[0;34m=\u001b[0m\u001b[0;32mTrue\u001b[0m\u001b[0;34m,\u001b[0m \u001b[0mfft\u001b[0m\u001b[0;34m=\u001b[0m\u001b[0mfft\u001b[0m\u001b[0;34m,\u001b[0m \u001b[0mmissing\u001b[0m\u001b[0;34m=\u001b[0m\u001b[0mmissing\u001b[0m\u001b[0;34m)\u001b[0m\u001b[0;34m\u001b[0m\u001b[0;34m\u001b[0m\u001b[0m\n\u001b[0m\u001b[1;32m    475\u001b[0m     \u001b[0macf\u001b[0m \u001b[0;34m=\u001b[0m \u001b[0mavf\u001b[0m\u001b[0;34m[\u001b[0m\u001b[0;34m:\u001b[0m\u001b[0mnlags\u001b[0m \u001b[0;34m+\u001b[0m \u001b[0;36m1\u001b[0m\u001b[0;34m]\u001b[0m \u001b[0;34m/\u001b[0m \u001b[0mavf\u001b[0m\u001b[0;34m[\u001b[0m\u001b[0;36m0\u001b[0m\u001b[0;34m]\u001b[0m\u001b[0;34m\u001b[0m\u001b[0;34m\u001b[0m\u001b[0m\n\u001b[1;32m    476\u001b[0m     \u001b[0;32mif\u001b[0m \u001b[0;32mnot\u001b[0m \u001b[0;34m(\u001b[0m\u001b[0mqstat\u001b[0m \u001b[0;32mor\u001b[0m \u001b[0malpha\u001b[0m\u001b[0;34m)\u001b[0m\u001b[0;34m:\u001b[0m\u001b[0;34m\u001b[0m\u001b[0;34m\u001b[0m\u001b[0m\n",
      "\u001b[0;32m/usr/local/lib/python3.6/dist-packages/statsmodels/tsa/stattools.py\u001b[0m in \u001b[0;36macovf\u001b[0;34m(x, unbiased, demean, fft, missing)\u001b[0m\n\u001b[1;32m    373\u001b[0m         \u001b[0macov\u001b[0m \u001b[0;34m=\u001b[0m \u001b[0macov\u001b[0m\u001b[0;34m.\u001b[0m\u001b[0mreal\u001b[0m\u001b[0;34m\u001b[0m\u001b[0;34m\u001b[0m\u001b[0m\n\u001b[1;32m    374\u001b[0m     \u001b[0;32melse\u001b[0m\u001b[0;34m:\u001b[0m\u001b[0;34m\u001b[0m\u001b[0;34m\u001b[0m\u001b[0m\n\u001b[0;32m--> 375\u001b[0;31m         \u001b[0macov\u001b[0m \u001b[0;34m=\u001b[0m \u001b[0;34m(\u001b[0m\u001b[0mnp\u001b[0m\u001b[0;34m.\u001b[0m\u001b[0mcorrelate\u001b[0m\u001b[0;34m(\u001b[0m\u001b[0mxo\u001b[0m\u001b[0;34m,\u001b[0m \u001b[0mxo\u001b[0m\u001b[0;34m,\u001b[0m \u001b[0;34m'full'\u001b[0m\u001b[0;34m)\u001b[0m \u001b[0;34m/\u001b[0m \u001b[0md\u001b[0m\u001b[0;34m)\u001b[0m\u001b[0;34m[\u001b[0m\u001b[0mn\u001b[0m \u001b[0;34m-\u001b[0m \u001b[0;36m1\u001b[0m\u001b[0;34m:\u001b[0m\u001b[0;34m]\u001b[0m\u001b[0;34m\u001b[0m\u001b[0;34m\u001b[0m\u001b[0m\n\u001b[0m\u001b[1;32m    376\u001b[0m \u001b[0;34m\u001b[0m\u001b[0m\n\u001b[1;32m    377\u001b[0m     \u001b[0;32mif\u001b[0m \u001b[0mdeal_with_masked\u001b[0m \u001b[0;32mand\u001b[0m \u001b[0mmissing\u001b[0m\u001b[0;34m==\u001b[0m\u001b[0;34m'conservative'\u001b[0m\u001b[0;34m:\u001b[0m\u001b[0;34m\u001b[0m\u001b[0;34m\u001b[0m\u001b[0m\n",
      "\u001b[0;32m/usr/local/lib/python3.6/dist-packages/numpy/core/numeric.py\u001b[0m in \u001b[0;36mcorrelate\u001b[0;34m(a, v, mode)\u001b[0m\n\u001b[1;32m    945\u001b[0m     \"\"\"\n\u001b[1;32m    946\u001b[0m     \u001b[0mmode\u001b[0m \u001b[0;34m=\u001b[0m \u001b[0m_mode_from_name\u001b[0m\u001b[0;34m(\u001b[0m\u001b[0mmode\u001b[0m\u001b[0;34m)\u001b[0m\u001b[0;34m\u001b[0m\u001b[0;34m\u001b[0m\u001b[0m\n\u001b[0;32m--> 947\u001b[0;31m     \u001b[0;32mreturn\u001b[0m \u001b[0mmultiarray\u001b[0m\u001b[0;34m.\u001b[0m\u001b[0mcorrelate2\u001b[0m\u001b[0;34m(\u001b[0m\u001b[0ma\u001b[0m\u001b[0;34m,\u001b[0m \u001b[0mv\u001b[0m\u001b[0;34m,\u001b[0m \u001b[0mmode\u001b[0m\u001b[0;34m)\u001b[0m\u001b[0;34m\u001b[0m\u001b[0;34m\u001b[0m\u001b[0m\n\u001b[0m\u001b[1;32m    948\u001b[0m \u001b[0;34m\u001b[0m\u001b[0m\n\u001b[1;32m    949\u001b[0m \u001b[0;34m\u001b[0m\u001b[0m\n",
      "\u001b[0;31mKeyboardInterrupt\u001b[0m: "
     ]
    }
   ],
   "source": [
    "import statsmodels.api as sm\n",
    "\n",
    "def ac_zero_crossing(signal):\n",
    "    tau = sm.tsa.acf(signal, nlags=len(signal) - 1)\n",
    "    tau_neg_ix = np.arange(len(tau), dtype=int)[tau < 0]\n",
    "    return tau_neg_ix[0]\n",
    "\n",
    "ac_zero_ch1 = []\n",
    "ac_zero_ch2 = []\n",
    "ac_zero_ch3 = []\n",
    "\n",
    "for _id, (signal_ch1, signal_ch2, signal_ch3) in tqdm_notebook(list(zip(ids, signals))):\n",
    "#     print(ac_zero_crossing(signal_ch1[3000:-3000]), Tao(signal_ch1[3000:-3000]))\n",
    "    ac_zero_ch1.append(ac_zero_crossing(signal_ch1[3000:-3000]))\n",
    "    ac_zero_ch2.append(ac_zero_crossing(signal_ch2[3000:-3000]))\n",
    "    ac_zero_ch3.append(ac_zero_crossing(signal_ch3[3000:-3000]))"
   ]
  },
  {
   "cell_type": "code",
   "execution_count": 8,
   "metadata": {},
   "outputs": [
    {
     "data": {
      "image/png": "[encoded data removed]",
      "text/plain": [
       "<Figure size 432x288 with 1 Axes>"
      ]
     },
     "metadata": {},
     "output_type": "display_data"
    },
    {
     "data": {
      "image/png": "[encoded data removed]",
      "text/plain": [
       "<Figure size 432x288 with 1 Axes>"
      ]
     },
     "metadata": {},
     "output_type": "display_data"
    },
    {
     "data": {
      "image/png": "[encoded data removed]",
      "text/plain": [
       "<Figure size 432x288 with 1 Axes>"
      ]
     },
     "metadata": {},
     "output_type": "display_data"
    }
   ],
   "source": [
    "plt.figure()\n",
    "plt.scatter(ac_zero_ch1, remaining_durations)\n",
    "plt.show()\n",
    "\n",
    "plt.figure()\n",
    "plt.scatter(ac_zero_ch2, remaining_durations)\n",
    "plt.show()\n",
    "\n",
    "plt.figure()\n",
    "plt.scatter(ac_zero_ch3, remaining_durations)\n",
    "plt.show()"
   ]
  },
  {
   "cell_type": "code",
   "execution_count": null,
   "metadata": {},
   "outputs": [],
   "source": []
  },
  {
   "cell_type": "markdown",
   "metadata": {},
   "source": [
    "# Maximal Lyapunov Exponent (Rosenstein algorithm)"
   ]
  },
  {
   "cell_type": "code",
   "execution_count": 67,
   "metadata": {},
   "outputs": [
    {
     "data": {
      "application/vnd.jupyter.widget-view+json": {
       "model_id": "cfcf48c3d26b4c7aa2c9d733a62c5291",
       "version_major": 2,
       "version_minor": 0
      },
      "text/plain": [
       "HBox(children=(IntProgress(value=1, bar_style='info', max=1), HTML(value='')))"
      ]
     },
     "metadata": {},
     "output_type": "display_data"
    }
   ],
   "source": [
    "# # Warning: very memory-intensive (and untested)\n",
    "\n",
    "from nolitsa.lyapunov import mle_embed\n",
    "lyap_ch1 = []\n",
    "\n",
    "for i, (_id, (signal_ch1, signal_ch2, signal_ch3)) in tqdm_notebook(enumerate(list(zip(ids, signals)))):\n",
    "    y = mle_embed(signal_ch1[3000:-3000], [7], ac_zero_ch1[i], maxt=10)[0]\n",
    "    x = np.arange(len(y))\n",
    "    \n",
    "    lyap_ch1.append(np.polyfit(x, y, 1)[0])\n",
    "    \n",
    "    if i == 50:\n",
    "        break\n",
    "\n",
    "# from nolds import lyap_r\n",
    "\n",
    "# lyap_ch1 = []\n",
    "# lyap_ch2 = []\n",
    "# lyap_ch3 = []\n",
    "\n",
    "# for i, (_id, (signal_ch1, signal_ch2, signal_ch3)) in tqdm_notebook(enumerate(list(zip(ids, signals)))):\n",
    "#     lyap_ch1.append(lyap_r(signal_ch1[3000:-3000], emb_dim=7, lag=ac_zero_ch1[i]))\n",
    "# #     lyap_ch2.append(lyap_r(signal_ch2[3000:-3000], emb_dim=7))\n",
    "# #     lyap_ch3.append(lyap_r(signal_ch3[3000:-3000], emb_dim=7))"
   ]
  },
  {
   "cell_type": "code",
   "execution_count": 69,
   "metadata": {},
   "outputs": [
    {
     "data": {
      "text/plain": [
       "<matplotlib.collections.PathCollection at 0x7f2f7dcfeeb8>"
      ]
     },
     "execution_count": 69,
     "metadata": {},
     "output_type": "execute_result"
    },
    {
     "data": {
      "image/png": "[encoded data removed]",
      "text/plain": [
       "<Figure size 432x288 with 1 Axes>"
      ]
     },
     "metadata": {},
     "output_type": "display_data"
    }
   ],
   "source": [
    "plt.scatter(lyap_ch1, remaining_durations[:len(lyap_ch1)])"
   ]
  },
  {
   "cell_type": "code",
   "execution_count": 75,
   "metadata": {},
   "outputs": [
    {
     "name": "stdout",
     "output_type": "stream",
     "text": [
      "[0.07636514121070026, 0.03753511398971444, 0.11664880991674756, 0.11574228511630294, 0.1155161656178812, 0.122099320024579, 0.07874904688085868, 0.11821316283950492, 0.06935200581700789, 0.03583276107209364, 0.07904565280227613, 0.10326053861388455, 0.10686090936957286, 0.06557340738083876, 0.10617301437438599, 0.10572641187713881, 0.10660909027242546, 0.03217646810131801, 0.09835845604979321, 0.1086106623916583, 0.06983710662317956, 0.14329808359400384, 0.12609170056909935, 0.12442956146377533, 0.111448374818167, 0.11080055683918429, 0.06957744704696915, 0.05940640356203463, 0.033963199185111245, 0.08806569255551784] [0.056678753409447245]\n",
      "Ttest_indResult(statistic=nan, pvalue=nan)\n",
      "Ttest_indResult(statistic=1.0182574685644485, pvalue=0.32204764092907423)\n"
     ]
    },
    {
     "name": "stderr",
     "output_type": "stream",
     "text": [
      "/usr/local/lib/python3.6/dist-packages/numpy/core/fromnumeric.py:3157: RuntimeWarning: Degrees of freedom <= 0 for slice\n",
      "  **kwargs)\n",
      "/usr/local/lib/python3.6/dist-packages/numpy/core/_methods.py:132: RuntimeWarning: invalid value encountered in double_scalars\n",
      "  ret = ret.dtype.type(ret / rcount)\n"
     ]
    }
   ],
   "source": [
    "from scipy.stats import ttest_ind\n",
    "\n",
    "preterm_early = []\n",
    "preterm_late = []\n",
    "term_early = []\n",
    "term_late = []\n",
    "for gest, dur, lyap in zip(gestations, remaining_durations, lyap_ch1):\n",
    "    if gest - dur <= 26:\n",
    "        if gest >= 37:\n",
    "            term_early.append(lyap)\n",
    "        else:\n",
    "            preterm_early.append(lyap)\n",
    "    else:\n",
    "        if gest >= 37:\n",
    "            term_late.append(lyap)\n",
    "        else:\n",
    "            preterm_late.append(lyap)\n",
    "        \n",
    "print(term_early, preterm_early)\n",
    "# print(preterm_early, preterm_late)\n",
    "print(ttest_ind(preterm_early, term_early))\n",
    "print(ttest_ind(preterm_late, term_late))"
   ]
  },
  {
   "cell_type": "code",
   "execution_count": 57,
   "metadata": {},
   "outputs": [
    {
     "data": {
      "image/png": "[encoded data removed]",
      "text/plain": [
       "<Figure size 432x288 with 1 Axes>"
      ]
     },
     "metadata": {},
     "output_type": "display_data"
    }
   ],
   "source": [
    "from nolitsa import data, lyapunov\n",
    "import numpy as np\n",
    "import matplotlib.pyplot as plt\n",
    "\n",
    "x = data.henon(length=5000)[:, 0]\n",
    "\n",
    "# Time delay.\n",
    "tau = 1\n",
    "\n",
    "# Embedding dimension.\n",
    "dim = [2]\n",
    "\n",
    "d = lyapunov.mle_embed(signals[0][0][3000:-3000], [7], ac_zero_ch1[0], maxt=100)[0]\n",
    "t = np.arange(100)\n",
    "\n",
    "plt.title('Maximum Lyapunov exponent for the Henon system')\n",
    "plt.xlabel(r'Time $t$')\n",
    "plt.ylabel(r'Average divergence $\\langle d_i(t) \\rangle$')\n",
    "plt.plot(t, d)\n",
    "plt.plot(t, t * 0.419 + d[0], '--')\n",
    "\n",
    "plt.show()"
   ]
  },
  {
   "cell_type": "code",
   "execution_count": 66,
   "metadata": {},
   "outputs": [
    {
     "data": {
      "text/plain": [
       "(array([-5.6933378 , -5.07687887, -4.62621846, -4.4136014 , -4.32676548,\n",
       "        -4.30455226, -4.31970012, -4.38715393, -4.55070124, -4.86914167,\n",
       "        -5.21385101, -4.87879598, -4.55481577, -4.38220785, -4.3073089 ,\n",
       "        -4.28620795, -4.29663252, -4.34930492, -4.47474067, -4.6987408 ,\n",
       "        -4.89639438, -4.70344734, -4.47312709, -4.33744615, -4.27636738,\n",
       "        -4.25815927, -4.26447889, -4.30173728, -4.39116753, -4.5392661 ,\n",
       "        -4.64965372, -4.53410337, -4.37696353, -4.27515781, -4.22651227,\n",
       "        -4.21045296, -4.21489258, -4.24233688, -4.30552808, -4.40252817,\n",
       "        -4.46549391, -4.39614919, -4.28897957, -4.2138906 , -4.17726028,\n",
       "        -4.16464146, -4.16786521, -4.18751615, -4.22951177, -4.28841652,\n",
       "        -4.3223096 , -4.28173589, -4.21347203, -4.16173524, -4.1345971 ,\n",
       "        -4.12375852, -4.1235561 , -4.13263234, -4.15365542, -4.1810184 ,\n",
       "        -4.1951181 , -4.17609025, -4.14113638, -4.11186794, -4.09496346,\n",
       "        -4.08614116, -4.0828768 , -4.08263369, -4.08568971, -4.08938085,\n",
       "        -4.09013351, -4.08592458, -4.07809522, -4.06961835, -4.06205689,\n",
       "        -4.05546013, -4.05268135, -4.05188355, -4.05265705, -4.05340239,\n",
       "        -4.05086639, -4.04574064, -4.04091986, -4.03625684, -4.03221128,\n",
       "        -4.02821278, -4.02672348, -4.02633609, -4.02580657, -4.02580977,\n",
       "        -4.02302704, -4.01853322, -4.0155923 , -4.0137502 , -4.01158003,\n",
       "        -4.00892018, -4.0080836 , -4.00840484, -4.00868041, -4.01021351]),\n",
       " [-4.6353,\n",
       "  -4.62783017,\n",
       "  -4.62036034,\n",
       "  -4.61289051,\n",
       "  -4.60542068,\n",
       "  -4.59795085,\n",
       "  -4.59048102,\n",
       "  -4.58301119,\n",
       "  -4.57554136,\n",
       "  -4.56807153,\n",
       "  -4.5606017,\n",
       "  -4.55313187,\n",
       "  -4.54566204,\n",
       "  -4.53819221,\n",
       "  -4.53072238,\n",
       "  -4.52325255,\n",
       "  -4.51578272,\n",
       "  -4.50831289,\n",
       "  -4.50084306,\n",
       "  -4.4933732299999996,\n",
       "  -4.4859034,\n",
       "  -4.47843357,\n",
       "  -4.47096374,\n",
       "  -4.46349391,\n",
       "  -4.45602408,\n",
       "  -4.44855425,\n",
       "  -4.44108442,\n",
       "  -4.43361459,\n",
       "  -4.42614476,\n",
       "  -4.41867493,\n",
       "  -4.4112051,\n",
       "  -4.40373527,\n",
       "  -4.39626544,\n",
       "  -4.38879561,\n",
       "  -4.38132578,\n",
       "  -4.37385595,\n",
       "  -4.36638612,\n",
       "  -4.35891629,\n",
       "  -4.35144646,\n",
       "  -4.34397663,\n",
       "  -4.3365068,\n",
       "  -4.32903697,\n",
       "  -4.32156714,\n",
       "  -4.31409731,\n",
       "  -4.3066274799999995,\n",
       "  -4.29915765,\n",
       "  -4.29168782,\n",
       "  -4.28421799,\n",
       "  -4.27674816,\n",
       "  -4.26927833,\n",
       "  -4.2618085,\n",
       "  -4.25433867,\n",
       "  -4.24686884,\n",
       "  -4.23939901,\n",
       "  -4.23192918,\n",
       "  -4.22445935,\n",
       "  -4.21698952,\n",
       "  -4.20951969,\n",
       "  -4.20204986,\n",
       "  -4.19458003,\n",
       "  -4.1871102,\n",
       "  -4.1796403699999995,\n",
       "  -4.17217054,\n",
       "  -4.16470071,\n",
       "  -4.15723088,\n",
       "  -4.14976105,\n",
       "  -4.14229122,\n",
       "  -4.13482139,\n",
       "  -4.12735156,\n",
       "  -4.1198817299999995,\n",
       "  -4.1124119,\n",
       "  -4.10494207,\n",
       "  -4.09747224,\n",
       "  -4.09000241,\n",
       "  -4.08253258,\n",
       "  -4.07506275,\n",
       "  -4.06759292,\n",
       "  -4.06012309,\n",
       "  -4.05265326,\n",
       "  -4.04518343,\n",
       "  -4.0377136,\n",
       "  -4.03024377,\n",
       "  -4.02277394,\n",
       "  -4.01530411,\n",
       "  -4.00783428,\n",
       "  -4.00036445,\n",
       "  -3.99289462,\n",
       "  -3.9854247899999997,\n",
       "  -3.97795496,\n",
       "  -3.97048513,\n",
       "  -3.9630153,\n",
       "  -3.95554547,\n",
       "  -3.94807564,\n",
       "  -3.94060581,\n",
       "  -3.93313598,\n",
       "  -3.92566615,\n",
       "  -3.91819632,\n",
       "  -3.91072649,\n",
       "  -3.90325666,\n",
       "  -3.89578683])"
      ]
     },
     "execution_count": 66,
     "metadata": {},
     "output_type": "execute_result"
    }
   ],
   "source": [
    "d, [-4.6353 + 0.00746983 * i for i in range(len(d))]"
   ]
  },
  {
   "cell_type": "code",
   "execution_count": 60,
   "metadata": {},
   "outputs": [
    {
     "data": {
      "text/plain": [
       "array([ 0.00746983, -4.63537716])"
      ]
     },
     "execution_count": 60,
     "metadata": {},
     "output_type": "execute_result"
    }
   ],
   "source": [
    "np.polyfit(np.arange(len(d)), d, 1)"
   ]
  },
  {
   "cell_type": "markdown",
   "metadata": {},
   "source": [
    "# Correlation dimension"
   ]
  },
  {
   "cell_type": "code",
   "execution_count": 43,
   "metadata": {},
   "outputs": [
    {
     "data": {
      "application/vnd.jupyter.widget-view+json": {
       "model_id": "7e5207a66b514c149b6787cb9a9403f2",
       "version_major": 2,
       "version_minor": 0
      },
      "text/plain": [
       "HBox(children=(IntProgress(value=1, bar_style='info', max=1), HTML(value='')))"
      ]
     },
     "metadata": {},
     "output_type": "display_data"
    },
    {
     "name": "stdout",
     "output_type": "stream",
     "text": [
      "[0.00024386 0.00026149 0.00028038 0.00030065 0.00032237 0.00034567\n",
      " 0.00037065] [4.68184702e-09 4.68184702e-09 4.68184702e-09 4.68184702e-09\n",
      " 4.68184702e-09 4.68184702e-09 4.68184702e-09]\n"
     ]
    },
    {
     "name": "stderr",
     "output_type": "stream",
     "text": [
      "/usr/local/lib/python3.6/dist-packages/nolitsa/d2.py:185: FutureWarning: `rcond` parameter will change to the default of machine precision times ``max(M, N)`` where M and N are the input matrix dimensions.\n",
      "To use the future default and silence this warning we advise to pass `rcond=None`, to keep using the old, explicitly pass `rcond=-1`.\n",
      "  d[i] = np.linalg.lstsq(A, q)[0][0]\n"
     ]
    },
    {
     "name": "stdout",
     "output_type": "stream",
     "text": [
      "[0.00053963 0.00057863 0.00062044 0.00066528 0.00071336 0.00076491\n",
      " 0.00082019] [1.17318949e-08 1.17318949e-08 3.98884428e-08 3.98884428e-08\n",
      " 9.85479176e-08 2.34637899e-07 2.34637899e-07]\n",
      "[0.0004781  0.00051266 0.0005497  0.00058943 0.00063203 0.0006777\n",
      " 0.00072668] [2.23808442e-09 2.23808442e-09 2.23808442e-09 2.23808442e-09\n",
      " 4.47616883e-09 4.47616883e-09 4.47616883e-09]\n",
      "[0.00031649 0.00033936 0.00036389 0.00039018 0.00041838 0.00044862\n",
      " 0.00048104] [6.70617474e-09 6.70617474e-09 6.70617474e-09 1.34123495e-08\n",
      " 1.34123495e-08 1.34123495e-08 6.70617474e-08]\n",
      "[0.00031574 0.00033856 0.00036302 0.00038926 0.00041739 0.00044755\n",
      " 0.0004799 ] [8.94874506e-09 8.94874506e-09 8.94874506e-09 4.02693528e-08\n",
      " 4.02693528e-08 4.02693528e-08 9.39618231e-08]\n"
     ]
    },
    {
     "name": "stderr",
     "output_type": "stream",
     "text": [
      "Process ForkPoolWorker-149:\n",
      "Process ForkPoolWorker-151:\n",
      "Process ForkPoolWorker-152:\n",
      "Process ForkPoolWorker-150:\n",
      "Traceback (most recent call last):\n",
      "Traceback (most recent call last):\n",
      "Traceback (most recent call last):\n",
      "  File \"/usr/lib/python3.6/multiprocessing/process.py\", line 258, in _bootstrap\n",
      "    self.run()\n",
      "  File \"/usr/lib/python3.6/multiprocessing/process.py\", line 258, in _bootstrap\n",
      "    self.run()\n",
      "  File \"/usr/lib/python3.6/multiprocessing/process.py\", line 258, in _bootstrap\n",
      "    self.run()\n",
      "  File \"/usr/lib/python3.6/multiprocessing/process.py\", line 93, in run\n",
      "    self._target(*self._args, **self._kwargs)\n",
      "  File \"/usr/lib/python3.6/multiprocessing/process.py\", line 93, in run\n",
      "    self._target(*self._args, **self._kwargs)\n",
      "  File \"/usr/lib/python3.6/multiprocessing/process.py\", line 93, in run\n",
      "    self._target(*self._args, **self._kwargs)\n",
      "  File \"/usr/lib/python3.6/multiprocessing/pool.py\", line 108, in worker\n",
      "    task = get()\n",
      "  File \"/usr/lib/python3.6/multiprocessing/pool.py\", line 108, in worker\n",
      "    task = get()\n",
      "  File \"/usr/lib/python3.6/multiprocessing/pool.py\", line 108, in worker\n",
      "    task = get()\n",
      "  File \"/usr/lib/python3.6/multiprocessing/queues.py\", line 334, in get\n",
      "    with self._rlock:\n",
      "  File \"/usr/lib/python3.6/multiprocessing/synchronize.py\", line 95, in __enter__\n",
      "    return self._semlock.__enter__()\n",
      "KeyboardInterrupt\n",
      "Traceback (most recent call last):\n",
      "  File \"/usr/lib/python3.6/multiprocessing/process.py\", line 258, in _bootstrap\n",
      "    self.run()\n",
      "  File \"/usr/lib/python3.6/multiprocessing/queues.py\", line 334, in get\n",
      "    with self._rlock:\n",
      "  File \"/usr/lib/python3.6/multiprocessing/synchronize.py\", line 95, in __enter__\n",
      "    return self._semlock.__enter__()\n",
      "  File \"/usr/lib/python3.6/multiprocessing/process.py\", line 93, in run\n",
      "    self._target(*self._args, **self._kwargs)\n",
      "KeyboardInterrupt\n",
      "  File \"/usr/lib/python3.6/multiprocessing/pool.py\", line 119, in worker\n",
      "    result = (True, func(*args, **kwds))\n"
     ]
    },
    {
     "ename": "KeyboardInterrupt",
     "evalue": "",
     "output_type": "error",
     "traceback": [
      "\u001b[0;31m---------------------------------------------------------------------------\u001b[0m",
      "\u001b[0;31mKeyboardInterrupt\u001b[0m                         Traceback (most recent call last)",
      "\u001b[0;32m<ipython-input-43-f7d8872b90c9>\u001b[0m in \u001b[0;36m<module>\u001b[0;34m()\u001b[0m\n\u001b[1;32m      6\u001b[0m \u001b[0;34m\u001b[0m\u001b[0m\n\u001b[1;32m      7\u001b[0m \u001b[0;32mfor\u001b[0m \u001b[0mi\u001b[0m\u001b[0;34m,\u001b[0m \u001b[0;34m(\u001b[0m\u001b[0m_id\u001b[0m\u001b[0;34m,\u001b[0m \u001b[0;34m(\u001b[0m\u001b[0msignal_ch1\u001b[0m\u001b[0;34m,\u001b[0m \u001b[0msignal_ch2\u001b[0m\u001b[0;34m,\u001b[0m \u001b[0msignal_ch3\u001b[0m\u001b[0;34m)\u001b[0m\u001b[0;34m)\u001b[0m \u001b[0;32min\u001b[0m \u001b[0mtqdm_notebook\u001b[0m\u001b[0;34m(\u001b[0m\u001b[0menumerate\u001b[0m\u001b[0;34m(\u001b[0m\u001b[0mlist\u001b[0m\u001b[0;34m(\u001b[0m\u001b[0mzip\u001b[0m\u001b[0;34m(\u001b[0m\u001b[0mids\u001b[0m\u001b[0;34m,\u001b[0m \u001b[0msignals\u001b[0m\u001b[0;34m)\u001b[0m\u001b[0;34m)\u001b[0m\u001b[0;34m)\u001b[0m\u001b[0;34m)\u001b[0m\u001b[0;34m:\u001b[0m\u001b[0;34m\u001b[0m\u001b[0;34m\u001b[0m\u001b[0m\n\u001b[0;32m----> 8\u001b[0;31m     \u001b[0mr\u001b[0m\u001b[0;34m,\u001b[0m \u001b[0mC_r\u001b[0m \u001b[0;34m=\u001b[0m \u001b[0mc2_embed\u001b[0m\u001b[0;34m(\u001b[0m\u001b[0msignal_ch1\u001b[0m\u001b[0;34m[\u001b[0m\u001b[0;36m3000\u001b[0m\u001b[0;34m:\u001b[0m\u001b[0;34m-\u001b[0m\u001b[0;36m3000\u001b[0m\u001b[0;34m]\u001b[0m\u001b[0;34m,\u001b[0m \u001b[0;34m[\u001b[0m\u001b[0;36m7\u001b[0m\u001b[0;34m]\u001b[0m\u001b[0;34m,\u001b[0m \u001b[0mac_zero_ch1\u001b[0m\u001b[0;34m[\u001b[0m\u001b[0mi\u001b[0m\u001b[0;34m]\u001b[0m\u001b[0;34m)\u001b[0m\u001b[0;34m[\u001b[0m\u001b[0;36m0\u001b[0m\u001b[0;34m]\u001b[0m\u001b[0;34m\u001b[0m\u001b[0;34m\u001b[0m\u001b[0m\n\u001b[0m\u001b[1;32m      9\u001b[0m     \u001b[0mprint\u001b[0m\u001b[0;34m(\u001b[0m\u001b[0mr\u001b[0m\u001b[0;34m[\u001b[0m\u001b[0;34m:\u001b[0m\u001b[0;36m7\u001b[0m\u001b[0;34m]\u001b[0m\u001b[0;34m,\u001b[0m \u001b[0mC_r\u001b[0m\u001b[0;34m[\u001b[0m\u001b[0;34m:\u001b[0m\u001b[0;36m7\u001b[0m\u001b[0;34m]\u001b[0m\u001b[0;34m)\u001b[0m\u001b[0;34m\u001b[0m\u001b[0;34m\u001b[0m\u001b[0m\n\u001b[1;32m     10\u001b[0m     \u001b[0mcorr_ch1\u001b[0m\u001b[0;34m.\u001b[0m\u001b[0mappend\u001b[0m\u001b[0;34m(\u001b[0m\u001b[0md2\u001b[0m\u001b[0;34m(\u001b[0m\u001b[0mr\u001b[0m\u001b[0;34m[\u001b[0m\u001b[0;34m:\u001b[0m\u001b[0;36m7\u001b[0m\u001b[0;34m]\u001b[0m\u001b[0;34m,\u001b[0m \u001b[0mC_r\u001b[0m\u001b[0;34m[\u001b[0m\u001b[0;34m:\u001b[0m\u001b[0;36m7\u001b[0m\u001b[0;34m]\u001b[0m\u001b[0;34m)\u001b[0m\u001b[0;34m)\u001b[0m\u001b[0;34m\u001b[0m\u001b[0;34m\u001b[0m\u001b[0m\n",
      "\u001b[0;32m/usr/local/lib/python3.6/dist-packages/nolitsa/d2.py\u001b[0m in \u001b[0;36mc2_embed\u001b[0;34m(x, dim, tau, r, metric, window, parallel)\u001b[0m\n\u001b[1;32m    150\u001b[0m                               \u001b[0;34m'metric'\u001b[0m\u001b[0;34m:\u001b[0m \u001b[0mmetric\u001b[0m\u001b[0;34m,\u001b[0m\u001b[0;34m\u001b[0m\u001b[0;34m\u001b[0m\u001b[0m\n\u001b[1;32m    151\u001b[0m                               \u001b[0;34m'window'\u001b[0m\u001b[0;34m:\u001b[0m \u001b[0mwindow\u001b[0m\u001b[0;34m\u001b[0m\u001b[0;34m\u001b[0m\u001b[0m\n\u001b[0;32m--> 152\u001b[0;31m                               }, processes=processes)\n\u001b[0m\u001b[1;32m    153\u001b[0m \u001b[0;34m\u001b[0m\u001b[0m\n\u001b[1;32m    154\u001b[0m \u001b[0;34m\u001b[0m\u001b[0m\n",
      "\u001b[0;32m/usr/local/lib/python3.6/dist-packages/nolitsa/utils.py\u001b[0m in \u001b[0;36mparallel_map\u001b[0;34m(func, values, args, kwargs, processes)\u001b[0m\n\u001b[1;32m    226\u001b[0m \u001b[0;34m\u001b[0m\u001b[0m\n\u001b[1;32m    227\u001b[0m     \u001b[0mpool\u001b[0m\u001b[0;34m.\u001b[0m\u001b[0mclose\u001b[0m\u001b[0;34m(\u001b[0m\u001b[0;34m)\u001b[0m\u001b[0;34m\u001b[0m\u001b[0;34m\u001b[0m\u001b[0m\n\u001b[0;32m--> 228\u001b[0;31m     \u001b[0mpool\u001b[0m\u001b[0;34m.\u001b[0m\u001b[0mjoin\u001b[0m\u001b[0;34m(\u001b[0m\u001b[0;34m)\u001b[0m\u001b[0;34m\u001b[0m\u001b[0;34m\u001b[0m\u001b[0m\n\u001b[0m\u001b[1;32m    229\u001b[0m \u001b[0;34m\u001b[0m\u001b[0m\n\u001b[1;32m    230\u001b[0m     \u001b[0;32mreturn\u001b[0m \u001b[0mnp\u001b[0m\u001b[0;34m.\u001b[0m\u001b[0masarray\u001b[0m\u001b[0;34m(\u001b[0m\u001b[0;34m[\u001b[0m\u001b[0mresult\u001b[0m\u001b[0;34m.\u001b[0m\u001b[0mget\u001b[0m\u001b[0;34m(\u001b[0m\u001b[0;34m)\u001b[0m \u001b[0;32mfor\u001b[0m \u001b[0mresult\u001b[0m \u001b[0;32min\u001b[0m \u001b[0mresults\u001b[0m\u001b[0;34m]\u001b[0m\u001b[0;34m)\u001b[0m\u001b[0;34m\u001b[0m\u001b[0;34m\u001b[0m\u001b[0m\n",
      "\u001b[0;32m/usr/lib/python3.6/multiprocessing/pool.py\u001b[0m in \u001b[0;36mjoin\u001b[0;34m(self)\u001b[0m\n\u001b[1;32m    544\u001b[0m         \u001b[0mutil\u001b[0m\u001b[0;34m.\u001b[0m\u001b[0mdebug\u001b[0m\u001b[0;34m(\u001b[0m\u001b[0;34m'joining pool'\u001b[0m\u001b[0;34m)\u001b[0m\u001b[0;34m\u001b[0m\u001b[0;34m\u001b[0m\u001b[0m\n\u001b[1;32m    545\u001b[0m         \u001b[0;32massert\u001b[0m \u001b[0mself\u001b[0m\u001b[0;34m.\u001b[0m\u001b[0m_state\u001b[0m \u001b[0;32min\u001b[0m \u001b[0;34m(\u001b[0m\u001b[0mCLOSE\u001b[0m\u001b[0;34m,\u001b[0m \u001b[0mTERMINATE\u001b[0m\u001b[0;34m)\u001b[0m\u001b[0;34m\u001b[0m\u001b[0;34m\u001b[0m\u001b[0m\n\u001b[0;32m--> 546\u001b[0;31m         \u001b[0mself\u001b[0m\u001b[0;34m.\u001b[0m\u001b[0m_worker_handler\u001b[0m\u001b[0;34m.\u001b[0m\u001b[0mjoin\u001b[0m\u001b[0;34m(\u001b[0m\u001b[0;34m)\u001b[0m\u001b[0;34m\u001b[0m\u001b[0;34m\u001b[0m\u001b[0m\n\u001b[0m\u001b[1;32m    547\u001b[0m         \u001b[0mself\u001b[0m\u001b[0;34m.\u001b[0m\u001b[0m_task_handler\u001b[0m\u001b[0;34m.\u001b[0m\u001b[0mjoin\u001b[0m\u001b[0;34m(\u001b[0m\u001b[0;34m)\u001b[0m\u001b[0;34m\u001b[0m\u001b[0;34m\u001b[0m\u001b[0m\n\u001b[1;32m    548\u001b[0m         \u001b[0mself\u001b[0m\u001b[0;34m.\u001b[0m\u001b[0m_result_handler\u001b[0m\u001b[0;34m.\u001b[0m\u001b[0mjoin\u001b[0m\u001b[0;34m(\u001b[0m\u001b[0;34m)\u001b[0m\u001b[0;34m\u001b[0m\u001b[0;34m\u001b[0m\u001b[0m\n",
      "\u001b[0;32m/usr/lib/python3.6/threading.py\u001b[0m in \u001b[0;36mjoin\u001b[0;34m(self, timeout)\u001b[0m\n\u001b[1;32m   1054\u001b[0m \u001b[0;34m\u001b[0m\u001b[0m\n\u001b[1;32m   1055\u001b[0m         \u001b[0;32mif\u001b[0m \u001b[0mtimeout\u001b[0m \u001b[0;32mis\u001b[0m \u001b[0;32mNone\u001b[0m\u001b[0;34m:\u001b[0m\u001b[0;34m\u001b[0m\u001b[0;34m\u001b[0m\u001b[0m\n\u001b[0;32m-> 1056\u001b[0;31m             \u001b[0mself\u001b[0m\u001b[0;34m.\u001b[0m\u001b[0m_wait_for_tstate_lock\u001b[0m\u001b[0;34m(\u001b[0m\u001b[0;34m)\u001b[0m\u001b[0;34m\u001b[0m\u001b[0;34m\u001b[0m\u001b[0m\n\u001b[0m\u001b[1;32m   1057\u001b[0m         \u001b[0;32melse\u001b[0m\u001b[0;34m:\u001b[0m\u001b[0;34m\u001b[0m\u001b[0;34m\u001b[0m\u001b[0m\n\u001b[1;32m   1058\u001b[0m             \u001b[0;31m# the behavior of a negative timeout isn't documented, but\u001b[0m\u001b[0;34m\u001b[0m\u001b[0;34m\u001b[0m\u001b[0;34m\u001b[0m\u001b[0m\n",
      "\u001b[0;32m/usr/lib/python3.6/threading.py\u001b[0m in \u001b[0;36m_wait_for_tstate_lock\u001b[0;34m(self, block, timeout)\u001b[0m\n\u001b[1;32m   1070\u001b[0m         \u001b[0;32mif\u001b[0m \u001b[0mlock\u001b[0m \u001b[0;32mis\u001b[0m \u001b[0;32mNone\u001b[0m\u001b[0;34m:\u001b[0m  \u001b[0;31m# already determined that the C code is done\u001b[0m\u001b[0;34m\u001b[0m\u001b[0;34m\u001b[0m\u001b[0m\n\u001b[1;32m   1071\u001b[0m             \u001b[0;32massert\u001b[0m \u001b[0mself\u001b[0m\u001b[0;34m.\u001b[0m\u001b[0m_is_stopped\u001b[0m\u001b[0;34m\u001b[0m\u001b[0;34m\u001b[0m\u001b[0m\n\u001b[0;32m-> 1072\u001b[0;31m         \u001b[0;32melif\u001b[0m \u001b[0mlock\u001b[0m\u001b[0;34m.\u001b[0m\u001b[0macquire\u001b[0m\u001b[0;34m(\u001b[0m\u001b[0mblock\u001b[0m\u001b[0;34m,\u001b[0m \u001b[0mtimeout\u001b[0m\u001b[0;34m)\u001b[0m\u001b[0;34m:\u001b[0m\u001b[0;34m\u001b[0m\u001b[0;34m\u001b[0m\u001b[0m\n\u001b[0m\u001b[1;32m   1073\u001b[0m             \u001b[0mlock\u001b[0m\u001b[0;34m.\u001b[0m\u001b[0mrelease\u001b[0m\u001b[0;34m(\u001b[0m\u001b[0;34m)\u001b[0m\u001b[0;34m\u001b[0m\u001b[0;34m\u001b[0m\u001b[0m\n\u001b[1;32m   1074\u001b[0m             \u001b[0mself\u001b[0m\u001b[0;34m.\u001b[0m\u001b[0m_stop\u001b[0m\u001b[0;34m(\u001b[0m\u001b[0;34m)\u001b[0m\u001b[0;34m\u001b[0m\u001b[0;34m\u001b[0m\u001b[0m\n",
      "\u001b[0;31mKeyboardInterrupt\u001b[0m: "
     ]
    },
    {
     "name": "stderr",
     "output_type": "stream",
     "text": [
      "  File \"/usr/lib/python3.6/multiprocessing/queues.py\", line 335, in get\n",
      "    res = self._reader.recv_bytes()\n",
      "  File \"/usr/local/lib/python3.6/dist-packages/nolitsa/d2.py\", line 95, in c2\n",
      "    c += np.histogram(dists, bins=bins)[0]\n",
      "  File \"/usr/local/lib/python3.6/dist-packages/numpy/lib/histograms.py\", line 795, in histogram\n",
      "    sa = np.sort(a[i:i+BLOCK])\n",
      "  File \"/usr/lib/python3.6/multiprocessing/connection.py\", line 216, in recv_bytes\n",
      "    buf = self._recv_bytes(maxlength)\n",
      "  File \"/usr/local/lib/python3.6/dist-packages/numpy/core/fromnumeric.py\", line 878, in sort\n",
      "    a.sort(axis=axis, kind=kind, order=order)\n",
      "  File \"/usr/lib/python3.6/multiprocessing/connection.py\", line 407, in _recv_bytes\n",
      "    buf = self._recv(4)\n",
      "KeyboardInterrupt\n",
      "  File \"/usr/lib/python3.6/multiprocessing/connection.py\", line 379, in _recv\n",
      "    chunk = read(handle, remaining)\n",
      "KeyboardInterrupt\n"
     ]
    }
   ],
   "source": [
    "from nolitsa.d2 import c2_embed, d2\n",
    "\n",
    "corr_ch1 = []\n",
    "corr_ch2 = []\n",
    "corr_ch3 = []\n",
    "\n",
    "for i, (_id, (signal_ch1, signal_ch2, signal_ch3)) in tqdm_notebook(enumerate(list(zip(ids, signals)))):\n",
    "    r, C_r = c2_embed(signal_ch1[3000:-3000], [7], ac_zero_ch1[i])[0]\n",
    "    print(r[:7], C_r[:7])\n",
    "    corr_ch1.append(d2(r[:7], C_r[:7])[0])\n",
    "    if i == 10:\n",
    "        break\n",
    "#     corr_ch1.append(Dim_Corr(signal_ch1[3000:-3000], ac_zero_ch1[0], 7))\n",
    "#     corr_ch2.append(corr_dim(signal_ch2[3000:-3000], 7))\n",
    "#     corr_ch3.append(corr_dim(signal_ch3[3000:-3000], 7))"
   ]
  },
  {
   "cell_type": "code",
   "execution_count": 68,
   "metadata": {},
   "outputs": [
    {
     "data": {
      "text/plain": [
       "[array([6.10611864e-15]),\n",
       " array([8.1297272]),\n",
       " array([2.12871211]),\n",
       " array([4.60007034]),\n",
       " array([5.92020641])]"
      ]
     },
     "execution_count": 68,
     "metadata": {},
     "output_type": "execute_result"
    }
   ],
   "source": [
    "corr_ch1"
   ]
  },
  {
   "cell_type": "code",
   "execution_count": 5,
   "metadata": {
    "scrolled": true
   },
   "outputs": [
    {
     "name": "stdout",
     "output_type": "stream",
     "text": [
      "0.006361917483843214\n"
     ]
    },
    {
     "data": {
      "text/plain": [
       "[0.0006361917483843215,\n",
       " 0.0006552775008358511,\n",
       " 0.0006749358258609266,\n",
       " 0.0006951839006367545,\n",
       " 0.0007160394176558572,\n",
       " 0.0007375206001855329,\n",
       " 0.0007596462181910989,\n",
       " 0.0007824356047368318,\n",
       " 0.0008059086728789369,\n",
       " 0.000830085933065305,\n",
       " 0.0008549885110572641,\n",
       " 0.000880638166388982,\n",
       " 0.0009070573113806515,\n",
       " 0.0009342690307220711,\n",
       " 0.0009622971016437333,\n",
       " 0.0009911660146930453,\n",
       " 0.0010209009951338368,\n",
       " 0.0010515280249878518,\n",
       " 0.0010830738657374875,\n",
       " 0.001115566081709612,\n",
       " 0.0011490330641609006,\n",
       " 0.0011835040560857276,\n",
       " 0.0012190091777682993,\n",
       " 0.0012555794531013485,\n",
       " 0.001293246836694389,\n",
       " 0.0013320442417952205,\n",
       " 0.0013720055690490773,\n",
       " 0.0014131657361205498,\n",
       " 0.0014555607082041662,\n",
       " 0.0014992275294502912,\n",
       " 0.0015442043553338,\n",
       " 0.0015905304859938137,\n",
       " 0.0016382464005736284,\n",
       " 0.0016873937925908373,\n",
       " 0.0017380156063685622,\n",
       " 0.0017901560745596193,\n",
       " 0.001843860756796408,\n",
       " 0.0018991765795003002,\n",
       " 0.0019561518768853093,\n",
       " 0.0020148364331918685,\n",
       " 0.0020752815261876247,\n",
       " 0.0021375399719732536,\n",
       " 0.0022016661711324512,\n",
       " 0.0022677161562664246,\n",
       " 0.0023357476409544176,\n",
       " 0.0024058200701830503,\n",
       " 0.002477994672288542,\n",
       " 0.002552334512457198,\n",
       " 0.002628904547830914,\n",
       " 0.0027077716842658413,\n",
       " 0.0027890048347938173,\n",
       " 0.0028726749798376316,\n",
       " 0.00295885522923276,\n",
       " 0.0030476208861097433,\n",
       " 0.003139049512693036]"
      ]
     },
     "execution_count": 5,
     "metadata": {},
     "output_type": "execute_result"
    }
   ],
   "source": [
    "def logarithmic_r(min_n, max_n, factor):\n",
    "    \"\"\"\n",
    "    Creates a list of values by successively multiplying a minimum value min_n by\n",
    "    a factor > 1 until a maximum value max_n is reached.\n",
    "\n",
    "    Args:\n",
    "    min_n (float):\n",
    "      minimum value (must be < max_n)\n",
    "    max_n (float):\n",
    "      maximum value (must be > min_n)\n",
    "    factor (float):\n",
    "      factor used to increase min_n (must be > 1)\n",
    "\n",
    "    Returns:\n",
    "    list of floats:\n",
    "      min_n, min_n * factor, min_n * factor^2, ... min_n * factor^i < max_n\n",
    "    \"\"\"\n",
    "    assert max_n > min_n\n",
    "    assert factor > 1\n",
    "    max_i = int(np.floor(np.log(1.0 * max_n / min_n) / np.log(factor)))\n",
    "    return [min_n * (factor ** i) for i in range(max_i + 1)]\n",
    "\n",
    "sd = np.std(signals[0][0][3000:-3000])\n",
    "print(sd)\n",
    "logarithmic_r(0.1 * sd, 0.5 * sd, 1.03)"
   ]
  },
  {
   "cell_type": "markdown",
   "metadata": {},
   "source": [
    "# Features from \"Advanced Artificial Neural Network Classification for Detecting Preterm BirthsUsing EHG Records\""
   ]
  },
  {
   "cell_type": "code",
   "execution_count": null,
   "metadata": {},
   "outputs": [],
   "source": [
    "def sum_absolute_values(signal):\n",
    "    return np.sum(np.abs(signal))\n",
    "\n",
    "def mean_abs_value(signal):\n",
    "    return np.mean(np.abs(signal))\n",
    "\n",
    "def squared_sum(signal):\n",
    "    return np.sum(signal)\n",
    "\n",
    "def wavelet_length(signal):\n",
    "    return np.sum(np.abs(signal[:-1] - signal[1:]))\n",
    "\n",
    "def log_detector(signal):\n",
    "    return np.exp(np.mean(np.log(np.abs(signal))))\n",
    "\n",
    "def variance(signal):\n",
    "    return np.var(signal)\n",
    "\n",
    "def variance_abs(signal):\n",
    "    return np.var(np.abs(np.power(signal[:-1] - signal[1:], 2)))\n",
    "\n",
    "def max_fractal_length(signal):\n",
    "    return np.log(np.sqrt(np.sum(np.power(signal[:-1] - signal[1:], 2))))\n",
    "\n",
    "def avg_amplitude_change(signal):\n",
    "    return np.mean(np.abs(signal[:-1] - signal[1:]))"
   ]
  }
 ],
 "metadata": {
  "kernelspec": {
   "display_name": "Python 3",
   "language": "python",
   "name": "python3"
  },
  "language_info": {
   "codemirror_mode": {
    "name": "ipython",
    "version": 3
   },
   "file_extension": ".py",
   "mimetype": "text/x-python",
   "name": "python",
   "nbconvert_exporter": "python",
   "pygments_lexer": "ipython3",
   "version": "3.6.8"
  }
 },
 "nbformat": 4,
 "nbformat_minor": 2
}
